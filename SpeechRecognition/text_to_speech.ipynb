{
 "cells": [
  {
   "cell_type": "code",
   "execution_count": 11,
   "metadata": {},
   "outputs": [],
   "source": [
    "import speech_recognition as sr\n",
    "import pyttsx3"
   ]
  },
  {
   "cell_type": "code",
   "execution_count": 12,
   "metadata": {},
   "outputs": [],
   "source": [
    "r = sr.Recognizer()"
   ]
  },
  {
   "cell_type": "markdown",
   "metadata": {},
   "source": [
    "### Saying the text to the output"
   ]
  },
  {
   "cell_type": "code",
   "execution_count": 13,
   "metadata": {},
   "outputs": [],
   "source": [
    "def SpeakText(commad):\n",
    "        engine = pyttsx3.init()\n",
    "        if \"love\" in commad:\n",
    "                engine.say(\"Let me think \")\n",
    "                engine.runAndWait()\n",
    "                engine.say(\"Yes I love you\")\n",
    "        else:\n",
    "                engine.say(commad)\n",
    "        engine.runAndWait()\n",
    "\n",
    "# SpeakText(\"Love you baby\")"
   ]
  },
  {
   "cell_type": "code",
   "execution_count": 15,
   "metadata": {},
   "outputs": [
    {
     "name": "stdout",
     "output_type": "stream",
     "text": [
      "Calibrating the background noise, please wait...\n",
      "Calibrated\n",
      "Listening...\n",
      "do you love me jarvis\n"
     ]
    }
   ],
   "source": [
    "\n",
    "# Initialize recognizer\n",
    "r = sr.Recognizer()\n",
    "\n",
    "with sr.Microphone() as mic:\n",
    "    print(\"Calibrating the background noise, please wait...\")\n",
    "    r.adjust_for_ambient_noise(mic, duration=3)  # Adjusting for ambient noise\n",
    "    print(\"Calibrated\")\n",
    "    \n",
    "    print(\"Listening...\")\n",
    "    audio = r.listen(mic)  # Capture audio from the microphone\n",
    "\n",
    "    # Recognize speech using Google Web Speech API\n",
    "    my_text = r.recognize_google(audio)\n",
    "    my_text = my_text.lower()  # Convert text to lowercase\n",
    "    if \"jarvis\" in my_text:\n",
    "     SpeakText(my_text)\n",
    "    else:\n",
    "     print(\"Please use jarvis in the command\")"
   ]
  },
  {
   "cell_type": "code",
   "execution_count": null,
   "metadata": {},
   "outputs": [],
   "source": []
  },
  {
   "cell_type": "code",
   "execution_count": null,
   "metadata": {},
   "outputs": [],
   "source": []
  }
 ],
 "metadata": {
  "kernelspec": {
   "display_name": "Python 3",
   "language": "python",
   "name": "python3"
  },
  "language_info": {
   "codemirror_mode": {
    "name": "ipython",
    "version": 3
   },
   "file_extension": ".py",
   "mimetype": "text/x-python",
   "name": "python",
   "nbconvert_exporter": "python",
   "pygments_lexer": "ipython3",
   "version": "3.12.0"
  }
 },
 "nbformat": 4,
 "nbformat_minor": 2
}
