{
 "cells": [
  {
   "cell_type": "code",
   "execution_count": 1,
   "metadata": {},
   "outputs": [],
   "source": [
    "import numpy as np"
   ]
  },
  {
   "cell_type": "code",
   "execution_count": 2,
   "metadata": {},
   "outputs": [
    {
     "name": "stdout",
     "output_type": "stream",
     "text": [
      "[1, 2, 3, 4, 5]\n",
      "<class 'list'>\n",
      "[1 2 3 4 5]\n",
      "<class 'numpy.ndarray'>\n"
     ]
    }
   ],
   "source": [
    "#Creating a one dimensional array\n",
    "lst = list(range(1,6))\n",
    "print(lst)\n",
    "print(type(lst))\n",
    "arr = np.array(lst)\n",
    "print(arr)\n",
    "print(type(arr))"
   ]
  },
  {
   "cell_type": "code",
   "execution_count": 11,
   "metadata": {},
   "outputs": [
    {
     "name": "stdout",
     "output_type": "stream",
     "text": [
      "(5,)\n"
     ]
    },
    {
     "data": {
      "text/plain": [
       "(1, 5)"
      ]
     },
     "execution_count": 11,
     "metadata": {},
     "output_type": "execute_result"
    }
   ],
   "source": [
    "#Shaping and reshaping \n",
    "#basically shape functions return the number of rows and columns\n",
    "arr2 = np.array([1,2,3,4,5])\n",
    "print(arr2.shape)\n",
    "arr2 = arr2.reshape(1,5)\n",
    "arr2.shape"
   ]
  },
  {
   "cell_type": "code",
   "execution_count": 29,
   "metadata": {},
   "outputs": [
    {
     "name": "stdout",
     "output_type": "stream",
     "text": [
      "[ 0 10 20 30 40 50 60 70 80 90]\n",
      "[[1. 1. 1. 1.]\n",
      " [1. 1. 1. 1.]\n",
      " [1. 1. 1. 1.]]\n",
      "[[0. 0. 0. 0.]\n",
      " [0. 0. 0. 0.]\n",
      " [0. 0. 0. 0.]]\n",
      "[[5 5 5 5]\n",
      " [5 5 5 5]\n",
      " [5 5 5 5]]\n",
      "[[3 0 0]\n",
      " [0 4 0]\n",
      " [0 0 5]]\n",
      "[[1. 0. 0.]\n",
      " [0. 1. 0.]\n",
      " [0. 0. 1.]]\n"
     ]
    }
   ],
   "source": [
    "#Some inbuilt functions to create arrays\n",
    "\n",
    "arr3 = np.arange(0,100,10)\n",
    "print(arr3)\n",
    "\n",
    "ones_array = np.ones((3,4)) \n",
    "print(ones_array)\n",
    "\n",
    "zeroes_array = np.zeros((3,4))\n",
    "print(zeroes_array)\n",
    "\n",
    "number_array = np.full((3,4),5)\n",
    "print(number_array)\n",
    "\n",
    "diagonal_array = np.diag(np.array([3,4,5]))\n",
    "print(diagonal_array)\n",
    "\n",
    "identity_matrix = np.eye(3)\n",
    "print(identity_matrix)"
   ]
  },
  {
   "cell_type": "code",
   "execution_count": 23,
   "metadata": {},
   "outputs": [
    {
     "name": "stdout",
     "output_type": "stream",
     "text": [
      "[[1 2 3]\n",
      " [4 5 6]]\n",
      "(2, 3)\n",
      "6\n",
      "2\n",
      "int64\n"
     ]
    }
   ],
   "source": [
    "#Some of the attributes of a array\n",
    "\n",
    "array = np.array([[1,2,3],[4,5,6]])\n",
    "print(array)\n",
    "print(array.shape)\n",
    "print(array.size)\n",
    "print(array.ndim)\n",
    "print(array.dtype)"
   ]
  },
  {
   "cell_type": "code",
   "execution_count": 30,
   "metadata": {},
   "outputs": [
    {
     "name": "stdout",
     "output_type": "stream",
     "text": [
      "Addition :  [11 22 33 44 55]\n",
      "Subraction :  [ -9 -18 -27 -36 -45]\n",
      "Multiplication :  [ 10  40  90 160 250]\n",
      "Division :  [10. 10. 10. 10. 10.]\n"
     ]
    }
   ],
   "source": [
    "#Some of the vectorized operations\n",
    "arr1 = np.array([1,2,3,4,5])\n",
    "arr2 = np.array([10,20,30,40,50])\n",
    "\n",
    "#Addition of the arrays \n",
    "print(\"Addition : \",arr1+arr2)\n",
    "\n",
    "#Subraction of the arrays\n",
    "print(\"Subraction : \",arr1-arr2)\n",
    "\n",
    "#Multiplication of the arrays\n",
    "print(\"Multiplication : \",arr1*arr2)\n",
    "\n",
    "#Division of the arrays\n",
    "print(\"Division : \",arr2/arr1)"
   ]
  },
  {
   "cell_type": "code",
   "execution_count": 31,
   "metadata": {},
   "outputs": [
    {
     "name": "stdout",
     "output_type": "stream",
     "text": [
      "Square root :  [1.41421356 2.         2.44948974 2.82842712 3.16227766]\n",
      "Sine value :  [ 0.90929743 -0.7568025  -0.2794155   0.98935825 -0.54402111]\n",
      "Log value :  [0.69314718 1.38629436 1.79175947 2.07944154 2.30258509]\n"
     ]
    }
   ],
   "source": [
    "#Some universal functions\n",
    "arr = np.array([2,4,6,8,10])\n",
    "\n",
    "print(\"Square root : \",np.sqrt(arr))\n",
    "print(\"Sine value : \",np.sin(arr))\n",
    "print(\"Log value : \",np.log(arr))"
   ]
  },
  {
   "cell_type": "code",
   "execution_count": 34,
   "metadata": {},
   "outputs": [
    {
     "data": {
      "text/plain": [
       "array([[ 1,  2,  3,  4],\n",
       "       [ 5,  6,  7,  8],\n",
       "       [ 9, 10, 11, 12]])"
      ]
     },
     "execution_count": 34,
     "metadata": {},
     "output_type": "execute_result"
    }
   ],
   "source": [
    "#Array indexing \n",
    "array = np.array([[1,2,3,4],[5,6,7,8],[9,10,11,12]])\n",
    "array"
   ]
  },
  {
   "cell_type": "code",
   "execution_count": 43,
   "metadata": {},
   "outputs": [
    {
     "name": "stdout",
     "output_type": "stream",
     "text": [
      "[[ 5  6]\n",
      " [ 9 10]]\n",
      "[[2 3]\n",
      " [6 7]]\n"
     ]
    }
   ],
   "source": [
    "print(array[1:3,0:2])\n",
    "print(array[0:2,1:3])\n"
   ]
  },
  {
   "cell_type": "code",
   "execution_count": 44,
   "metadata": {},
   "outputs": [
    {
     "name": "stdout",
     "output_type": "stream",
     "text": [
      "Mean =  5.5\n",
      "Standard deviation =  2.8722813232690143\n",
      "Median = 5.5\n",
      "Variance = 8.25\n"
     ]
    }
   ],
   "source": [
    "#Some of the statistical methods\n",
    "data = np.array(list(range(1,11)))\n",
    "\n",
    "print(\"Mean = \",np.mean(data)) #To calculate the mean of the data\n",
    "print(\"Standard deviation = \",np.std(data)) #To calculate standard deviation\n",
    "print(\"Median =\",np.median(data)) #TO calculate the median\n",
    "print(\"Variance =\",np.var(data)) #To calculate the variance"
   ]
  },
  {
   "cell_type": "code",
   "execution_count": null,
   "metadata": {},
   "outputs": [],
   "source": []
  }
 ],
 "metadata": {
  "kernelspec": {
   "display_name": "Python 3",
   "language": "python",
   "name": "python3"
  },
  "language_info": {
   "codemirror_mode": {
    "name": "ipython",
    "version": 3
   },
   "file_extension": ".py",
   "mimetype": "text/x-python",
   "name": "python",
   "nbconvert_exporter": "python",
   "pygments_lexer": "ipython3",
   "version": "3.12.0"
  }
 },
 "nbformat": 4,
 "nbformat_minor": 2
}
