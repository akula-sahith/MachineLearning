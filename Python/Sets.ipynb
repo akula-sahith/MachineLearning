{
 "cells": [
  {
   "cell_type": "markdown",
   "metadata": {},
   "source": [
    "Sets are built in data structures in python they are unorderd i.e they do not follow a specific order and it does not allow duplicate elements in it . We can perform different mathematical operations like union, intersection and etc"
   ]
  },
  {
   "cell_type": "code",
   "execution_count": 1,
   "metadata": {},
   "outputs": [
    {
     "name": "stdout",
     "output_type": "stream",
     "text": [
      "{}\n",
      "<class 'dict'>\n"
     ]
    }
   ],
   "source": [
    "#Creating of a basic set\n",
    "set1 = {1,2,3,4}\n",
    "print(set1)\n",
    "print(type(set1))"
   ]
  },
  {
   "cell_type": "code",
   "execution_count": 5,
   "metadata": {},
   "outputs": [
    {
     "name": "stdout",
     "output_type": "stream",
     "text": [
      "[1, 2, 3, 4, 5]\n",
      "(1, 5, 6, 8, 9)\n",
      "{1, 2, 3, 4, 5}\n",
      "{1, 5, 6, 8, 9}\n"
     ]
    }
   ],
   "source": [
    "#Typecasting into a set\n",
    "lst1 = [1,2,3,4,5]\n",
    "tup1 = (1,5,6,8,9)\n",
    "set1 = set(lst1)\n",
    "set2 = set(tup1)\n",
    "print(lst1)\n",
    "print(tup1)\n",
    "print(set1)\n",
    "print(set2)"
   ]
  },
  {
   "cell_type": "code",
   "execution_count": 6,
   "metadata": {},
   "outputs": [
    {
     "name": "stdout",
     "output_type": "stream",
     "text": [
      "{1, 2, 3}\n"
     ]
    }
   ],
   "source": [
    "#Here is one 1of the most important property of a set\n",
    "#Set does not allow duplicate elements\n",
    "lst1 = [1,1,2,2,3,3]\n",
    "set1 = set(lst1)\n",
    "print(set1)"
   ]
  },
  {
   "cell_type": "code",
   "execution_count": 10,
   "metadata": {},
   "outputs": [
    {
     "name": "stdout",
     "output_type": "stream",
     "text": [
      "1 is popped from the set\n",
      "{2, 4, 5, 6, 7}\n",
      "set()\n"
     ]
    }
   ],
   "source": [
    "#Here are some of the basic operation on set\n",
    "set1 = {1,2,3,4,5,6}\n",
    "set1.add(7) #Adding an element into set\n",
    "set1.remove(3) #Removing an element from the set\n",
    "popped = set1.pop() #Removes the first element and returns it\n",
    "print(f\"{popped} is popped from the set\")\n",
    "print(set1)\n",
    "set1.clear() #Removes all the elements from the set\n",
    "print(set1)"
   ]
  },
  {
   "cell_type": "code",
   "execution_count": 11,
   "metadata": {},
   "outputs": [
    {
     "name": "stdout",
     "output_type": "stream",
     "text": [
      "True\n",
      "True\n"
     ]
    }
   ],
   "source": [
    "#Membership test\n",
    "#Checking whether an element is present in a set or not\n",
    "st = {1,2,3,4}\n",
    "\n",
    "print(3 in st)\n",
    "print(4 in st)"
   ]
  },
  {
   "cell_type": "code",
   "execution_count": 13,
   "metadata": {},
   "outputs": [
    {
     "name": "stdout",
     "output_type": "stream",
     "text": [
      "{4, 5, 6}\n",
      "{1, 2, 3, 4, 5, 6, 7, 8, 9}\n",
      "{1, 2, 3}\n",
      "{8, 9, 7}\n",
      "{4, 5, 6}\n"
     ]
    }
   ],
   "source": [
    "#Mathematical operations on set\n",
    "set1 = {1,2,3,4,5,6}\n",
    "set2 = {4,5,6,7,8,9}\n",
    "\n",
    "intersection_set = set1.intersection(set2) #This method returns the set of common elements of set1 and set2\n",
    "print(intersection_set)\n",
    "\n",
    "union_set = set1.union(set2) #Returns the union set of both the sets\n",
    "print(union_set)\n",
    "\n",
    "difference_set1 = set1.difference(set2) #Returns the set of elements that are different in set1 apart from set2\n",
    "print(difference_set1)\n",
    "\n",
    "difference_set2 = set2.difference(set1) #Returns the set of elements that are different in set1 apart from set2\n",
    "print(difference_set2)\n",
    "\n",
    "set1.intersection_update(set2) #This intersection update will finds the intersection and updates the set1 to be intersection set similarly \n",
    "print(set1)                               #we can also perform union update , differenfce update etc"
   ]
  },
  {
   "cell_type": "code",
   "execution_count": null,
   "metadata": {},
   "outputs": [],
   "source": []
  }
 ],
 "metadata": {
  "kernelspec": {
   "display_name": "Python 3",
   "language": "python",
   "name": "python3"
  },
  "language_info": {
   "codemirror_mode": {
    "name": "ipython",
    "version": 3
   },
   "file_extension": ".py",
   "mimetype": "text/x-python",
   "name": "python",
   "nbconvert_exporter": "python",
   "pygments_lexer": "ipython3",
   "version": "3.12.0"
  }
 },
 "nbformat": 4,
 "nbformat_minor": 2
}
