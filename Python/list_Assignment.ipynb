{
 "cells": [
  {
   "cell_type": "markdown",
   "id": "771adbf3",
   "metadata": {},
   "source": [
    "# Module 3: Data Structures Assignments\n",
    "## Lesson 3.1: Lists\n",
    "### Assignment 1: Creating and Accessing Lists\n",
    "\n",
    "Create a list of the first 20 positive integers. Print the list.\n",
    "\n",
    "### Assignment 2: Accessing List Elements\n",
    "\n",
    "Print the first, middle, and last elements of the list created in Assignment 1.\n",
    "\n",
    "### Assignment 3: List Slicing\n",
    "\n",
    "Print the first five elements, the last five elements, and the elements from index 5 to 15 of the list created in Assignment 1.\n",
    "\n",
    "### Assignment 4: List Comprehensions\n",
    "\n",
    "Create a new list containing the squares of the first 10 positive integers using a list comprehension. Print the new list.\n",
    "\n",
    "### Assignment 5: Filtering Lists\n",
    "\n",
    "Create a new list containing only the even numbers from the list created in Assignment 1 using a list comprehension. Print the new list.\n",
    "\n",
    "### Assignment 6: List Methods\n",
    "\n",
    "Create a list of random numbers and sort it in ascending and descending order. Remove the duplicates from the list and print the modified list.\n",
    "\n",
    "### Assignment 7: Nested Lists\n",
    "\n",
    "Create a nested list representing a 3x3 matrix and print the matrix. Access and print the element at the second row and third column.\n",
    "\n",
    "### Assignment 8: List of Dictionaries\n",
    "\n",
    "Create a list of dictionaries where each dictionary represents a student with keys 'name' and 'score'. Sort the list of dictionaries by the 'score' in descending order and print the sorted list.\n",
    "\n",
    "### Assignment 9: Matrix Transposition\n",
    "\n",
    "Write a function that takes a 3x3 matrix (nested list) as input and returns its transpose. Print the original and transposed matrices.\n",
    "\n",
    "### Assignment 10: Flattening a Nested List\n",
    "\n",
    "Write a function that takes a nested list and flattens it into a single list. Print the original and flattened lists.\n",
    "\n",
    "### Assignment 11: List Manipulation\n",
    "\n",
    "Create a list of the first 10 positive integers. Remove the elements at indices 2, 4, and 6, and insert the element '99' at index 5. Print the modified list.\n",
    "\n",
    "### Assignment 12: List Zipping\n",
    "\n",
    "Create two lists of the same length. Use the `zip` function to combine these lists into a list of tuples and print the result.\n",
    "\n",
    "### Assignment 13: List Reversal\n",
    "\n",
    "Write a function that takes a list and returns a new list with the elements in reverse order. Print the original and reversed lists.\n",
    "\n",
    "### Assignment 14: List Rotation\n",
    "\n",
    "Write a function that rotates a list by n positions. Print the original and rotated lists.\n",
    "\n",
    "### Assignment 15: List Intersection\n",
    "\n",
    "Write a function that takes two lists and returns a new list containing only the elements that are present in both lists. Print the intersected list."
   ]
  },
  {
   "cell_type": "markdown",
   "id": "45000f2b",
   "metadata": {},
   "source": [
    "1.Make a list of first 20 natural numbers"
   ]
  },
  {
   "cell_type": "code",
   "execution_count": 1,
   "id": "5116df31",
   "metadata": {},
   "outputs": [
    {
     "name": "stdout",
     "output_type": "stream",
     "text": [
      "[1, 2, 3, 4, 5, 6, 7, 8, 9, 10, 11, 12, 13, 14, 15, 16, 17, 18, 19, 20]\n"
     ]
    }
   ],
   "source": [
    "numbers = list(range(1,21))\n",
    "print(numbers)"
   ]
  },
  {
   "cell_type": "markdown",
   "id": "822d5c03",
   "metadata": {},
   "source": [
    "2.Print the last , first and middle elements of the created list above"
   ]
  },
  {
   "cell_type": "code",
   "execution_count": 3,
   "id": "4e87d044",
   "metadata": {},
   "outputs": [
    {
     "name": "stdout",
     "output_type": "stream",
     "text": [
      "1\n",
      "11\n",
      "20\n"
     ]
    }
   ],
   "source": [
    "print(numbers[0])\n",
    "print(numbers[len(numbers)//2])\n",
    "print(numbers[19])"
   ]
  },
  {
   "cell_type": "markdown",
   "id": "317b91cc",
   "metadata": {},
   "source": [
    "3.Slice the list"
   ]
  },
  {
   "cell_type": "code",
   "execution_count": 10,
   "id": "947b4792",
   "metadata": {},
   "outputs": [
    {
     "name": "stdout",
     "output_type": "stream",
     "text": [
      "[1, 2, 3, 4, 5]\n",
      "[16, 17, 18, 19, 20]\n",
      "[6, 7, 8, 9, 10, 11, 12, 13, 14, 15, 16]\n"
     ]
    }
   ],
   "source": [
    "print(numbers[:5])\n",
    "print(numbers[-5:])\n",
    "print(numbers[5:16])"
   ]
  },
  {
   "cell_type": "markdown",
   "id": "e30eb0c8",
   "metadata": {},
   "source": [
    "4.Create a list of squares"
   ]
  },
  {
   "cell_type": "code",
   "execution_count": 11,
   "id": "9b92d353",
   "metadata": {},
   "outputs": [
    {
     "name": "stdout",
     "output_type": "stream",
     "text": [
      "[0, 1, 8, 27, 64, 125, 216, 343, 512, 729]\n"
     ]
    }
   ],
   "source": [
    "sqaures = [x**3 for x in range(10)]\n",
    "print(sqaures)"
   ]
  },
  {
   "cell_type": "markdown",
   "id": "93f65a14",
   "metadata": {},
   "source": [
    "5.Create a list of odd numbers"
   ]
  },
  {
   "cell_type": "code",
   "execution_count": 12,
   "id": "322e9fab",
   "metadata": {},
   "outputs": [
    {
     "name": "stdout",
     "output_type": "stream",
     "text": [
      "[1, 3, 5, 7, 9]\n"
     ]
    }
   ],
   "source": [
    "odds = [x for x in range(10) if x%2!=0]\n",
    "print(odds)"
   ]
  },
  {
   "cell_type": "markdown",
   "id": "0e3eae53",
   "metadata": {},
   "source": [
    "6.Transpose of a matrix"
   ]
  },
  {
   "cell_type": "code",
   "execution_count": 19,
   "id": "8e7c3e89",
   "metadata": {},
   "outputs": [
    {
     "name": "stdout",
     "output_type": "stream",
     "text": [
      "Original matrix : \n",
      "1 2 3 \n",
      "4 5 6 \n",
      "7 8 9 \n",
      "Transpose matrix : \n",
      "1 4 7 \n",
      "2 5 8 \n",
      "3 6 9 \n"
     ]
    }
   ],
   "source": [
    "matrix = [[1,2,3],[4,5,6],[7,8,9]]\n",
    "new_matrix = [[0,0,0],[0,0,0],[0,0,0]]\n",
    "\n",
    "for i in range(3):\n",
    "    for j in range(3):\n",
    "       new_matrix[j][i] = matrix[i][j]\n",
    "\n",
    "print('Original matrix : ')\n",
    "for i in range(3):\n",
    "    for j in range(3):\n",
    "        print(matrix[i][j],end=\" \")\n",
    "    print()\n",
    "\n",
    "print(\"Transpose matrix : \")\n",
    "for i in range(3):\n",
    "    for j in range(3):\n",
    "        print(new_matrix[i][j],end=\" \")\n",
    "    print()\n",
    "    \n",
    "\n",
    "\n",
    "        "
   ]
  },
  {
   "cell_type": "markdown",
   "id": "4ba97e56",
   "metadata": {},
   "source": [
    "7.Remove the duplicates from the list"
   ]
  },
  {
   "cell_type": "code",
   "execution_count": 25,
   "id": "9b5f3eaa",
   "metadata": {},
   "outputs": [
    {
     "name": "stdout",
     "output_type": "stream",
     "text": [
      "[1, 2, 8, 6, 7, 4]\n"
     ]
    }
   ],
   "source": [
    "lst = [1,2,8,2,6,7,2,4,2,2,2]\n",
    "new_lst = []\n",
    "\n",
    "for i in lst:\n",
    "    if i not in new_lst:\n",
    "        new_lst.append(i)\n",
    "\n",
    "print(new_lst)"
   ]
  },
  {
   "cell_type": "markdown",
   "id": "6603201e",
   "metadata": {},
   "source": [
    "8.Sort the list in ascending and descending order"
   ]
  },
  {
   "cell_type": "code",
   "execution_count": 27,
   "id": "69e0d689",
   "metadata": {},
   "outputs": [
    {
     "name": "stdout",
     "output_type": "stream",
     "text": [
      "List in ascending order : \n",
      "[1, 2, 3, 4, 5]\n",
      "List in descending order : \n",
      "[5, 4, 3, 2, 1]\n"
     ]
    }
   ],
   "source": [
    "data = [4,3,1,2,5]\n",
    "\n",
    "data.sort()\n",
    "print(\"List in ascending order : \")\n",
    "print(data)\n",
    "data.sort(reverse=True)\n",
    "print(\"List in descending order : \")\n",
    "print(data)\n"
   ]
  },
  {
   "cell_type": "markdown",
   "id": "98214d07",
   "metadata": {},
   "source": [
    "9.Flattened list"
   ]
  },
  {
   "cell_type": "code",
   "execution_count": 2,
   "id": "67ef860e",
   "metadata": {},
   "outputs": [
    {
     "name": "stdout",
     "output_type": "stream",
     "text": [
      "[1, 2, 3, 4, 5, 6]\n"
     ]
    }
   ],
   "source": [
    "nestedlist = [[1,2,3],[4,5,6]]\n",
    "\n",
    "lst = [y for x in nestedlist for y in x]\n",
    "\n",
    "print(lst)"
   ]
  },
  {
   "cell_type": "markdown",
   "id": "b261f4a2",
   "metadata": {},
   "source": [
    "10.Write a function to return the list of intersection of two lists"
   ]
  },
  {
   "cell_type": "code",
   "execution_count": 3,
   "id": "e66ee9a6",
   "metadata": {},
   "outputs": [
    {
     "name": "stdout",
     "output_type": "stream",
     "text": [
      "[4, 5, 9]\n"
     ]
    }
   ],
   "source": [
    "def intersect(list1,list2):\n",
    "\n",
    " new_list = []\n",
    " for i in list1:\n",
    "  if i in list2:\n",
    "   new_list.append(i)\n",
    " \n",
    " print(new_list)\n",
    "\n",
    "list1 = [1,2,3,4,5,9]\n",
    "list2 = [4,5,6,8,9]\n",
    "intersect(list1,list2)"
   ]
  },
  {
   "cell_type": "code",
   "execution_count": 4,
   "id": "4bca1f2d",
   "metadata": {},
   "outputs": [
    {
     "name": "stdout",
     "output_type": "stream",
     "text": [
      "[4, 5, 9]\n"
     ]
    }
   ],
   "source": [
    "\n",
    "new_lst = [i for i in list1 if i in list2]\n",
    "print(new_lst)"
   ]
  },
  {
   "cell_type": "markdown",
   "id": "8c608dd4",
   "metadata": {},
   "source": [
    "List reversal"
   ]
  },
  {
   "cell_type": "markdown",
   "id": "ec5d2a4d",
   "metadata": {},
   "source": [
    "List Rotation"
   ]
  },
  {
   "cell_type": "code",
   "execution_count": 15,
   "id": "ab5a7ef1",
   "metadata": {},
   "outputs": [
    {
     "name": "stdout",
     "output_type": "stream",
     "text": [
      "[1, 2, 3, 4, 5]\n",
      "Rotated list : \n",
      "[4, 5, 1, 2, 3]\n"
     ]
    }
   ],
   "source": [
    "n = int(input(\"Enter number of positions to rotate : \"))\n",
    "choice = int(input(\"Enter 1 for left rotation or 2 for right rotation\"))\n",
    "nums = list(range(1,6))\n",
    "print(nums)\n",
    "if choice==1:\n",
    "    i = 0\n",
    "    while(n>0):\n",
    "      nums.append(nums[i])\n",
    "      nums.remove(nums[i])\n",
    "      print(nums)\n",
    "      n = n - 1\n",
    "else:\n",
    "    i = len(nums) - 1\n",
    "    while(n>0):\n",
    "      nums.insert(0,nums[i])\n",
    "      nums.pop()\n",
    "      n = n - 1\n",
    "print(\"Rotated list : \")\n",
    "print(nums)"
   ]
  },
  {
   "cell_type": "code",
   "execution_count": null,
   "id": "76959a86",
   "metadata": {},
   "outputs": [],
   "source": []
  },
  {
   "cell_type": "code",
   "execution_count": null,
   "id": "2eb4f203",
   "metadata": {},
   "outputs": [],
   "source": []
  }
 ],
 "metadata": {
  "kernelspec": {
   "display_name": "Python 3 (ipykernel)",
   "language": "python",
   "name": "python3"
  },
  "language_info": {
   "codemirror_mode": {
    "name": "ipython",
    "version": 3
   },
   "file_extension": ".py",
   "mimetype": "text/x-python",
   "name": "python",
   "nbconvert_exporter": "python",
   "pygments_lexer": "ipython3",
   "version": "3.12.0"
  }
 },
 "nbformat": 4,
 "nbformat_minor": 5
}
