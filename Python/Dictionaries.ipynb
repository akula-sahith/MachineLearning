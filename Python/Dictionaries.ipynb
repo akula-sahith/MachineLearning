{
 "cells": [
  {
   "cell_type": "markdown",
   "metadata": {},
   "source": [
    "Dictionaries are also in-built data structures in python that store key-value pairs . They are also unordered . All the keys are immutable and should be unique"
   ]
  },
  {
   "cell_type": "code",
   "execution_count": 1,
   "metadata": {},
   "outputs": [
    {
     "name": "stdout",
     "output_type": "stream",
     "text": [
      "<class 'dict'>\n"
     ]
    }
   ],
   "source": [
    "dict1 = {}\n",
    "print(type(dict1))"
   ]
  },
  {
   "cell_type": "code",
   "execution_count": 3,
   "metadata": {},
   "outputs": [
    {
     "name": "stdout",
     "output_type": "stream",
     "text": [
      "{'Name': 'Sahith', 'age': 18, 'CGPA': 9.34}\n"
     ]
    }
   ],
   "source": [
    "#A way of creating a simple dictionary\n",
    "#Name,age,CGPA are called keys\n",
    "#Sahith,8,9.34 are called values \n",
    "dict1 = {\n",
    "    \"Name\" : \"Sahith\",\n",
    "    \"age\"  : 18,\n",
    "    \"CGPA\" : 9.34\n",
    "}\n",
    "print(dict1)"
   ]
  },
  {
   "cell_type": "code",
   "execution_count": 4,
   "metadata": {},
   "outputs": [
    {
     "name": "stdout",
     "output_type": "stream",
     "text": [
      "{'Name': 'Akula', 'age': 18}\n"
     ]
    }
   ],
   "source": [
    "#We know that we should use a unique key lets see what happens if we not do so\n",
    "dict2 = {\n",
    "    \"Name\" : \"Sahith\",\n",
    "    \"age\"  : 18,\n",
    "    \"Name\" : \"Akula\"\n",
    "}\n",
    "print(dict2)"
   ]
  },
  {
   "cell_type": "markdown",
   "metadata": {},
   "source": [
    "Accesing of dictionary elements"
   ]
  },
  {
   "cell_type": "code",
   "execution_count": 8,
   "metadata": {},
   "outputs": [
    {
     "name": "stdout",
     "output_type": "stream",
     "text": [
      "Sahith\n",
      "18\n",
      "9.34\n",
      "Sahith\n",
      "9.34\n",
      "18\n",
      "None\n"
     ]
    }
   ],
   "source": [
    "dict1 = {\n",
    "    \"Name\" : \"Sahith\",\n",
    "    \"age\"  : 18,\n",
    "    \"CGPA\" : 9.34\n",
    "}\n",
    "\n",
    "#A simple way of accesing dictionary elements is through key name\n",
    "print(dict1['Name'])\n",
    "print(dict1['age'])\n",
    "print(dict1[\"CGPA\"])\n",
    "\n",
    "#Accesing the elements throught get() method of dictionary\n",
    "print(dict1.get(\"Name\"))\n",
    "print(dict1.get(\"CGPA\"))\n",
    "print(dict1.get(\"age\"))\n",
    "print(dict1.get(\"College\")) #When a key which is not present in the dictionarybis used it gives none"
   ]
  },
  {
   "cell_type": "markdown",
   "metadata": {},
   "source": [
    "Modification of a dictionary\n",
    "->Add a new key-value pair\n",
    "->We can update the values\n",
    "->We can delete the key-value pairs"
   ]
  },
  {
   "cell_type": "code",
   "execution_count": 9,
   "metadata": {},
   "outputs": [
    {
     "data": {
      "text/plain": [
       "{'Name': 'Sahith', 'age': 18, 'CGPA': 9.34}"
      ]
     },
     "execution_count": 9,
     "metadata": {},
     "output_type": "execute_result"
    }
   ],
   "source": [
    "dict1"
   ]
  },
  {
   "cell_type": "code",
   "execution_count": 11,
   "metadata": {},
   "outputs": [
    {
     "name": "stdout",
     "output_type": "stream",
     "text": [
      "{'Name': 'Sahith', 'age': 19, 'CGPA': 9.34, 'year': 2}\n",
      "{'Name': 'Sahith', 'age': 19, 'CGPA': 9.34, 'year': 2}\n",
      "{'Name': 'Sahith', 'age': 19, 'year': 2}\n"
     ]
    }
   ],
   "source": [
    "#Updating a value of a key in dictionary\n",
    "dict1[\"age\"] = 19\n",
    "print(dict1)\n",
    "#Adding a new key-value pair\n",
    "dict1[\"year\"] = 2\n",
    "print(dict1)\n",
    "#Removing a key-value pari\n",
    "del dict1[\"CGPA\"]\n",
    "print(dict1)"
   ]
  },
  {
   "cell_type": "code",
   "execution_count": 12,
   "metadata": {},
   "outputs": [
    {
     "name": "stdout",
     "output_type": "stream",
     "text": [
      "dict_keys(['Name', 'age', 'year'])\n",
      "dict_values(['Sahith', 19, 2])\n",
      "dict_items([('Name', 'Sahith'), ('age', 19), ('year', 2)])\n"
     ]
    }
   ],
   "source": [
    "#Some common methods used in dictionaries\n",
    "keys = dict1.keys() # ---> This method will return all the keys in the dictionary\n",
    "values = dict1.values() #---> This method will return all the values in the dictionary\n",
    "items = dict1.items() #---> This method will return all the key-value pairs as a list of tuple\n",
    "\n",
    "print(keys)\n",
    "print(values)\n",
    "print(items)"
   ]
  },
  {
   "cell_type": "code",
   "execution_count": 14,
   "metadata": {},
   "outputs": [
    {
     "name": "stdout",
     "output_type": "stream",
     "text": [
      "{'name': 'Sahith', 'country': 'india', 'state': 'Ap'}\n",
      "{'name': 'Sahith', 'country': 'india', 'state': 'Ap'}\n",
      "{'name': 'Sahith', 'country': 'USA', 'state': 'Ap'}\n",
      "{'name': 'Sahith', 'country': 'USA', 'state': 'Ap'}\n"
     ]
    }
   ],
   "source": [
    "#Copying of a dictionary\n",
    "temp_dict1 = {\"name\" : \"Sahith\" , \"country\" : \"india\" , \"state\" : \"Ap\"}\n",
    "temp_dict2 = temp_dict1\n",
    "print(temp_dict1)\n",
    "print(temp_dict2)\n",
    "#We will be getting the same value for both the dictionaries ok thats fine\n",
    "temp_dict1[\"country\"] = \"USA\"\n",
    "print(temp_dict1)\n",
    "print(temp_dict2) #Here the problem arises when you make changes in one dictinary it is showing in both the dictionaries \n",
    "#So to avoid this we use shallow copy i.e we use a method called copy"
   ]
  },
  {
   "cell_type": "code",
   "execution_count": 15,
   "metadata": {},
   "outputs": [
    {
     "name": "stdout",
     "output_type": "stream",
     "text": [
      "{'name': 'Sahith', 'country': 'USA', 'state': 'Ap'}\n",
      "{'name': 'Sahith', 'country': 'USA', 'state': 'Ap'}\n",
      "{'name': 'Manoj', 'country': 'USA', 'state': 'Ap'}\n",
      "{'name': 'Sahith', 'country': 'USA', 'state': 'Ap'}\n"
     ]
    }
   ],
   "source": [
    "temp_dict2 = temp_dict1.copy()\n",
    "print(temp_dict1)\n",
    "print(temp_dict2)\n",
    "temp_dict1[\"name\"] = \"Manoj\"\n",
    "print(temp_dict1)\n",
    "print(temp_dict2)"
   ]
  },
  {
   "cell_type": "markdown",
   "metadata": {},
   "source": [
    "Iterating over a dictionary\n",
    "There are 3 ways of iterating over a dictionary\n",
    "->keys\n",
    "->values\n",
    "->items(key-value pairs)"
   ]
  },
  {
   "cell_type": "code",
   "execution_count": 16,
   "metadata": {},
   "outputs": [
    {
     "data": {
      "text/plain": [
       "{'name': 'Sahith', 'dept': 'IT', 'sec': 2, 'roll': 66, 'grade': 9.34}"
      ]
     },
     "execution_count": 16,
     "metadata": {},
     "output_type": "execute_result"
    }
   ],
   "source": [
    "student = {\n",
    "    \"name\" : \"Sahith\",\n",
    "    \"dept\" : \"IT\",\n",
    "    \"sec\"  : 2,\n",
    "    \"roll\" : 66,\n",
    "    \"grade\": 9.34\n",
    "}"
   ]
  },
  {
   "cell_type": "code",
   "execution_count": 18,
   "metadata": {},
   "outputs": [
    {
     "name": "stdout",
     "output_type": "stream",
     "text": [
      "Keys : \n",
      "name\n",
      "dept\n",
      "sec\n",
      "roll\n",
      "grade\n",
      "Values : \n",
      "Sahith\n",
      "IT\n",
      "2\n",
      "66\n",
      "9.34\n",
      "Key-Value pairs : \n",
      "('name', 'Sahith')\n",
      "('dept', 'IT')\n",
      "('sec', 2)\n",
      "('roll', 66)\n",
      "('grade', 9.34)\n"
     ]
    }
   ],
   "source": [
    "print(\"Keys : \")\n",
    "for key in student.keys():\n",
    "    print(key)\n",
    "\n",
    "print(\"Values : \")\n",
    "for value in student.values():\n",
    "    print(value)\n",
    "\n",
    "print(\"Key-Value pairs : \")\n",
    "for item in student.items():\n",
    "    print(item)"
   ]
  },
  {
   "cell_type": "code",
   "execution_count": 29,
   "metadata": {},
   "outputs": [
    {
     "name": "stdout",
     "output_type": "stream",
     "text": [
      "{'Student1': {'name': 'Sahith', 'dept': 'IT', 'marks': {'maths': 9, 'DS': 10, 'ADS': 9}, 'roll': 66}, 'Student2': {'name': 'Kanna', 'dept': 'IT', 'marks': {'maths': 9, 'DS': 10, 'ADS': 9}, 'roll': 67}, 'Student3': {'name': 'Kid', 'dept': 'IT', 'marks': {'maths': 9, 'DS': 10, 'ADS': 9}, 'roll': 68}}\n"
     ]
    }
   ],
   "source": [
    "#Nested dictionaries\n",
    "students = {\n",
    "    \"Student1\" : {\"name\":\"Sahith\",\"dept\":\"IT\",\"marks\" : {\"maths\" : 9,\"DS\":10,\"ADS\":9},\"roll\":66},\n",
    "    \"Student2\" : {\"name\":\"Kanna\",\"dept\":\"IT\",\"marks\" : {\"maths\" : 9,\"DS\":10,\"ADS\":9},\"roll\":67},\n",
    "    \"Student3\" : {\"name\":\"Kid\",\"dept\":\"IT\",\"marks\":{\"maths\" : 9,\"DS\":10,\"ADS\":9},\"roll\":68}\n",
    "}\n",
    "print(students)"
   ]
  },
  {
   "cell_type": "code",
   "execution_count": 27,
   "metadata": {},
   "outputs": [
    {
     "name": "stdout",
     "output_type": "stream",
     "text": [
      "student1 :\n",
      "name : Sahith\n",
      "dept : IT\n",
      "maths : 9\n",
      "DS : 10\n",
      "ADS : 9\n",
      "roll : 66\n",
      "\n",
      "student2 :\n",
      "name : Kanna\n",
      "dept : IT\n",
      "maths : 9\n",
      "DS : 10\n",
      "ADS : 9\n",
      "roll : 67\n",
      "\n",
      "student3 :\n",
      "name : Kid\n",
      "dept : IT\n",
      "maths : 9\n",
      "DS : 10\n",
      "ADS : 9\n",
      "roll : 68\n",
      "\n"
     ]
    }
   ],
   "source": [
    "for id,info in students.items():\n",
    "    print(id + \" :\")\n",
    "    for key,value in info.items():\n",
    "            if type(value) is dict:\n",
    "             for sub,marks in value.items():\n",
    "                print(f\"{sub} : {marks}\")\n",
    "            else:\n",
    "             print(f\"{key} : {value}\")\n",
    "    print()\n"
   ]
  },
  {
   "cell_type": "code",
   "execution_count": 34,
   "metadata": {},
   "outputs": [
    {
     "name": "stdout",
     "output_type": "stream",
     "text": [
      "{1: 2, 2: 2, 3: 2, 4: 2, 5: 2, 6: 2}\n"
     ]
    }
   ],
   "source": [
    "#A small dictionary assignment\n",
    "lst = [1,2,3,4,5,6,1,2,3,4,5,6]\n",
    "st1 = set(lst)\n",
    "frequency = {x:0 for x in st1}\n",
    "for num in lst:\n",
    "    frequency[num] = frequency[num] + 1\n",
    "print(frequency)"
   ]
  },
  {
   "cell_type": "code",
   "execution_count": null,
   "metadata": {},
   "outputs": [],
   "source": []
  }
 ],
 "metadata": {
  "kernelspec": {
   "display_name": "Python 3",
   "language": "python",
   "name": "python3"
  },
  "language_info": {
   "codemirror_mode": {
    "name": "ipython",
    "version": 3
   },
   "file_extension": ".py",
   "mimetype": "text/x-python",
   "name": "python",
   "nbconvert_exporter": "python",
   "pygments_lexer": "ipython3",
   "version": "3.12.0"
  }
 },
 "nbformat": 4,
 "nbformat_minor": 2
}
