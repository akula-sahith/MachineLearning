{
 "cells": [
  {
   "cell_type": "markdown",
   "metadata": {},
   "source": [
    "LISTS\n"
   ]
  },
  {
   "cell_type": "code",
   "execution_count": 4,
   "metadata": {},
   "outputs": [
    {
     "name": "stdout",
     "output_type": "stream",
     "text": [
      "[1, 2, 3, 'Sahith', 9.34]\n",
      "['Apple', 'Banana', 'guava', 'kiwi']\n",
      "Apple\n",
      "Banana\n",
      "guava\n",
      "kiwi\n",
      "['Apple', 'Banana', 'guava']\n",
      "['Banana', 'guava', 'kiwi']\n",
      "['Pandu', 'Banana', 'guava', 'kiwi']\n"
     ]
    }
   ],
   "source": [
    "#Various actions on lists\n",
    "\n",
    "lst = [1,2,3,\"Sahith\",9.34] #lists can have different data types\n",
    "print(lst)\n",
    "fruits = [\"Apple\",\"Banana\",\"guava\",\"kiwi\"] #declaration of a list\n",
    "\n",
    "#printing\n",
    "print(fruits)\n",
    "\n",
    "#accesing\n",
    "print(fruits[0])\n",
    "print(fruits[1])\n",
    "print(fruits[2])\n",
    "print(fruits[3])\n",
    "\n",
    "#Slicing\n",
    "print(fruits[0:3])\n",
    "print(fruits[1:]) #prints the list from 1st index to last index\n",
    "\n",
    "#Modifying\n",
    "fruits[0] = \"Pandu\"\n",
    "print(fruits)\n",
    "\n"
   ]
  },
  {
   "cell_type": "code",
   "execution_count": 11,
   "metadata": {},
   "outputs": [
    {
     "name": "stdout",
     "output_type": "stream",
     "text": [
      "['guava', 'kiwi', 'banana', 'Watermelon']\n",
      "['Apple', 'guava', 'kiwi', 'banana', 'Watermelon']\n",
      "['guava', 'kiwi', 'banana', 'Watermelon']\n",
      "['guava', 'kiwi', 'banana']\n",
      "Watermelon is popped from list\n",
      "There are 2 guavas in list\n",
      "['guava', 'kiwi', 'banana', 'guava']\n",
      "['guava', 'banana', 'kiwi', 'guava']\n"
     ]
    }
   ],
   "source": [
    "#Different method on list\n",
    "\n",
    "fruits = [\"guava\" , \"kiwi\" , \"banana\"]\n",
    "\n",
    "fruits.append(\"Watermelon\")\n",
    "print(fruits)\n",
    "\n",
    "fruits.insert(0,\"Apple\")\n",
    "print(fruits)\n",
    "\n",
    "fruits.remove(\"Apple\")\n",
    "print(fruits)\n",
    "\n",
    "popped = fruits.pop()\n",
    "print(fruits)\n",
    "print(f\"{popped} is popped from list\")\n",
    "\n",
    "fruits.append(\"guava\")\n",
    "count = fruits.count(\"guava\")\n",
    "print(f\"There are {count} guavas in list\")\n",
    "\n",
    "print(fruits)\n",
    "fruits.reverse()\n",
    "print(fruits)\n"
   ]
  },
  {
   "cell_type": "code",
   "execution_count": null,
   "metadata": {},
   "outputs": [],
   "source": [
    "#Slicing the list\n",
    "numbers  = [1,2,3,4,5,6,7,8,9,10]\n",
    "\n",
    "print(numbers[1:])"
   ]
  },
  {
   "cell_type": "code",
   "execution_count": null,
   "metadata": {},
   "outputs": [],
   "source": []
  }
 ],
 "metadata": {
  "kernelspec": {
   "display_name": "Python 3 (ipykernel)",
   "language": "python",
   "name": "python3"
  },
  "language_info": {
   "codemirror_mode": {
    "name": "ipython",
    "version": 3
   },
   "file_extension": ".py",
   "mimetype": "text/x-python",
   "name": "python",
   "nbconvert_exporter": "python",
   "pygments_lexer": "ipython3",
   "version": "3.12.4"
  }
 },
 "nbformat": 4,
 "nbformat_minor": 4
}
