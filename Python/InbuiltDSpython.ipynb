{
 "cells": [
  {
   "cell_type": "markdown",
   "metadata": {},
   "source": [
    "LISTS\n"
   ]
  },
  {
   "cell_type": "code",
   "execution_count": 4,
   "metadata": {},
   "outputs": [
    {
     "name": "stdout",
     "output_type": "stream",
     "text": [
      "[1, 2, 3, 'Sahith', 9.34]\n",
      "['Apple', 'Banana', 'guava', 'kiwi']\n",
      "Apple\n",
      "Banana\n",
      "guava\n",
      "kiwi\n",
      "['Apple', 'Banana', 'guava']\n",
      "['Banana', 'guava', 'kiwi']\n",
      "['Pandu', 'Banana', 'guava', 'kiwi']\n"
     ]
    }
   ],
   "source": [
    "#Various actions on lists\n",
    "\n",
    "lst = [1,2,3,\"Sahith\",9.34] #lists can have different data types\n",
    "print(lst)\n",
    "fruits = [\"Apple\",\"Banana\",\"guava\",\"kiwi\"] #declaration of a list\n",
    "\n",
    "#printing\n",
    "print(fruits)\n",
    "\n",
    "#accesing\n",
    "print(fruits[0])\n",
    "print(fruits[1])\n",
    "print(fruits[2])\n",
    "print(fruits[3])\n",
    "\n",
    "#Slicing\n",
    "print(fruits[0:3])\n",
    "print(fruits[1:]) #prints the list from 1st index to last index\n",
    "\n",
    "#Modifying\n",
    "fruits[0] = \"Pandu\"\n",
    "print(fruits)\n",
    "\n"
   ]
  },
  {
   "cell_type": "code",
   "execution_count": 11,
   "metadata": {},
   "outputs": [
    {
     "name": "stdout",
     "output_type": "stream",
     "text": [
      "['guava', 'kiwi', 'banana', 'Watermelon']\n",
      "['Apple', 'guava', 'kiwi', 'banana', 'Watermelon']\n",
      "['guava', 'kiwi', 'banana', 'Watermelon']\n",
      "['guava', 'kiwi', 'banana']\n",
      "Watermelon is popped from list\n",
      "There are 2 guavas in list\n",
      "['guava', 'kiwi', 'banana', 'guava']\n",
      "['guava', 'banana', 'kiwi', 'guava']\n"
     ]
    }
   ],
   "source": [
    "#Different method on list\n",
    "\n",
    "fruits = [\"guava\" , \"kiwi\" , \"banana\"]\n",
    "\n",
    "fruits.append(\"Watermelon\")\n",
    "print(fruits)\n",
    "\n",
    "fruits.insert(0,\"Apple\")\n",
    "print(fruits)\n",
    "\n",
    "fruits.remove(\"Apple\")\n",
    "print(fruits)\n",
    "\n",
    "popped = fruits.pop()\n",
    "print(fruits)\n",
    "print(f\"{popped} is popped from list\")\n",
    "\n",
    "fruits.append(\"guava\")\n",
    "count = fruits.count(\"guava\")\n",
    "print(f\"There are {count} guavas in list\")\n",
    "\n",
    "print(fruits)\n",
    "fruits.reverse()\n",
    "print(fruits)\n"
   ]
  },
  {
   "cell_type": "code",
   "execution_count": 2,
   "metadata": {},
   "outputs": [
    {
     "name": "stdout",
     "output_type": "stream",
     "text": [
      "[3, 4, 5]\n",
      "[2, 3, 4, 5, 6, 7, 8, 9, 10]\n",
      "[1, 2, 3, 4, 5]\n",
      "[6, 7, 8, 9, 10]\n",
      "[1, 3, 5, 7, 9]\n",
      "[10, 9, 8, 7, 6, 5, 4, 3, 2, 1]\n",
      "[10, 8, 6, 4, 2]\n",
      "[1, 2, 3, 4, 5, 6, 7, 8, 9, 10]\n"
     ]
    }
   ],
   "source": [
    "#Slicing the list\n",
    "numbers  = [1,2,3,4,5,6,7,8,9,10]\n",
    "\n",
    "print(numbers[2:5]) # -> 3,4,5\n",
    "print(numbers[1:])  # -> 2,3,4,5,6,7,8,9,10\n",
    "print(numbers[:5])  # -> 1,2,3,4,5\n",
    "print(numbers[5:])  # -> 6,7,8,9,10\n",
    "print(numbers[::2]) # from the beginning of the list the elements will be printed with a step size of 2\n",
    "print(numbers[::-1])\n",
    "print(numbers[::-2])\n",
    "print(numbers[::1]) #The number i.e mentioning after :: is the step size"
   ]
  },
  {
   "cell_type": "code",
   "execution_count": 3,
   "metadata": {},
   "outputs": [
    {
     "name": "stdout",
     "output_type": "stream",
     "text": [
      "Sahith\n",
      "krishna\n",
      "Manoj\n",
      "Praveen\n",
      "Paandu\n"
     ]
    }
   ],
   "source": [
    "#Iterate over the lists\n",
    "\n",
    "names = [\"Sahith\",\"krishna\",\"Manoj\",\"Praveen\",\"Paandu\"]\n",
    "\n",
    "for name in names:\n",
    " print(name)"
   ]
  },
  {
   "cell_type": "code",
   "execution_count": 4,
   "metadata": {},
   "outputs": [
    {
     "name": "stdout",
     "output_type": "stream",
     "text": [
      "0 Sahith\n",
      "1 krishna\n",
      "2 Manoj\n",
      "3 Praveen\n",
      "4 Paandu\n"
     ]
    }
   ],
   "source": [
    "#Iterate over the list along with index\n",
    "\n",
    "for index,name in enumerate(names):\n",
    "    print(index,name)\n",
    "    "
   ]
  },
  {
   "cell_type": "code",
   "execution_count": 5,
   "metadata": {},
   "outputs": [
    {
     "name": "stdout",
     "output_type": "stream",
     "text": [
      "[0, 1, 4, 9, 16, 25, 36, 49, 64, 81]\n"
     ]
    }
   ],
   "source": [
    "#List comprehension\n",
    "\n",
    "lst1 = [x**2 for x in range(10)] #basic list comprehension\n",
    "print(lst1)"
   ]
  },
  {
   "cell_type": "code",
   "execution_count": 6,
   "metadata": {},
   "outputs": [
    {
     "name": "stdout",
     "output_type": "stream",
     "text": [
      "[True, False, True, False, True, False, True, False, True, False, True, False, True, False, True, False, True, False, True, False]\n"
     ]
    }
   ],
   "source": [
    "lst2 = [x%2==0 for x in range(20)]\n",
    "print(lst2)\n"
   ]
  },
  {
   "cell_type": "code",
   "execution_count": 7,
   "metadata": {},
   "outputs": [
    {
     "name": "stdout",
     "output_type": "stream",
     "text": [
      "[[1, 'a'], [1, 'b'], [1, 'c'], [2, 'a'], [2, 'b'], [2, 'c'], [3, 'a'], [3, 'b'], [3, 'c']]\n"
     ]
    }
   ],
   "source": [
    "lst1 = [1,2,3]\n",
    "lst2 = ['a','b','c']\n",
    "\n",
    "pairs = [[i,j] for i in lst1 for j in lst2]\n",
    "print(pairs)"
   ]
  },
  {
   "cell_type": "code",
   "execution_count": 8,
   "metadata": {},
   "outputs": [
    {
     "name": "stdout",
     "output_type": "stream",
     "text": [
      "[0, 2, 4, 6, 8]\n"
     ]
    }
   ],
   "source": [
    "lst1 = [x for x in range(10) if x%2==0]\n",
    "print(lst1)"
   ]
  },
  {
   "cell_type": "code",
   "execution_count": 9,
   "metadata": {},
   "outputs": [
    {
     "name": "stdout",
     "output_type": "stream",
     "text": [
      "[6, 7, 5, 7, 6]\n"
     ]
    }
   ],
   "source": [
    "\n",
    "lengths = [len(name) for name in names]\n",
    "print(lengths)"
   ]
  },
  {
   "cell_type": "code",
   "execution_count": 2,
   "metadata": {},
   "outputs": [
    {
     "name": "stdout",
     "output_type": "stream",
     "text": [
      "[-1, 2, -3, 4, -5, 6, -7, 8, -9, 10, -11, 12, -13, 14, -15, 16, -17, 18, -19, 20]\n"
     ]
    }
   ],
   "source": [
    "#list comprehension with if and else\n",
    "\n",
    "\n",
    "lst = [x if x%2==0 else -x for x in range(1,21)]\n",
    "print(lst)"
   ]
  },
  {
   "cell_type": "code",
   "execution_count": null,
   "metadata": {},
   "outputs": [],
   "source": []
  }
 ],
 "metadata": {
  "kernelspec": {
   "display_name": "Python 3 (ipykernel)",
   "language": "python",
   "name": "python3"
  },
  "language_info": {
   "codemirror_mode": {
    "name": "ipython",
    "version": 3
   },
   "file_extension": ".py",
   "mimetype": "text/x-python",
   "name": "python",
   "nbconvert_exporter": "python",
   "pygments_lexer": "ipython3",
   "version": "3.12.0"
  }
 },
 "nbformat": 4,
 "nbformat_minor": 4
}
