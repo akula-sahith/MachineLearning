{
 "cells": [
  {
   "cell_type": "code",
   "execution_count": 2,
   "metadata": {},
   "outputs": [],
   "source": [
    "import sqlite3"
   ]
  },
  {
   "cell_type": "code",
   "execution_count": 3,
   "metadata": {},
   "outputs": [
    {
     "name": "stdout",
     "output_type": "stream",
     "text": [
      "<sqlite3.Connection object at 0x0000028025584220>\n"
     ]
    }
   ],
   "source": [
    "#Connecting the sqlite data base\n",
    "connection = sqlite3.connect('example.db')\n",
    "print(connection)"
   ]
  },
  {
   "cell_type": "code",
   "execution_count": 4,
   "metadata": {},
   "outputs": [],
   "source": [
    "cursor = connection.cursor()\n"
   ]
  },
  {
   "cell_type": "code",
   "execution_count": 5,
   "metadata": {},
   "outputs": [],
   "source": [
    "cursor.execute('''\n",
    "Create Table If Not Exists Employee(\n",
    "               id Integer Primary key,\n",
    "               name Text  not null,\n",
    "               department Text \n",
    "               )\n",
    "''')\n",
    "connection.commit()"
   ]
  },
  {
   "cell_type": "code",
   "execution_count": 6,
   "metadata": {},
   "outputs": [
    {
     "data": {
      "text/plain": [
       "<sqlite3.Cursor at 0x280252c64c0>"
      ]
     },
     "execution_count": 6,
     "metadata": {},
     "output_type": "execute_result"
    }
   ],
   "source": [
    "cursor.execute('''\n",
    "Select * from Employee\n",
    "''')"
   ]
  },
  {
   "cell_type": "code",
   "execution_count": 10,
   "metadata": {},
   "outputs": [
    {
     "ename": "IntegrityError",
     "evalue": "UNIQUE constraint failed: Employee.id",
     "output_type": "error",
     "traceback": [
      "\u001b[1;31m---------------------------------------------------------------------------\u001b[0m",
      "\u001b[1;31mIntegrityError\u001b[0m                            Traceback (most recent call last)",
      "Cell \u001b[1;32mIn[10], line 1\u001b[0m\n\u001b[1;32m----> 1\u001b[0m \u001b[43mcursor\u001b[49m\u001b[38;5;241;43m.\u001b[39;49m\u001b[43mexecute\u001b[49m\u001b[43m(\u001b[49m\u001b[38;5;124;43m'''\u001b[39;49m\n\u001b[0;32m      2\u001b[0m \u001b[38;5;124;43mINSERT INTO Employee(id,name,department)\u001b[39;49m\n\u001b[0;32m      3\u001b[0m \u001b[38;5;124;43m        values(\u001b[39;49m\u001b[38;5;124;43m'\u001b[39;49m\u001b[38;5;124;43m66\u001b[39;49m\u001b[38;5;124;43m'\u001b[39;49m\u001b[38;5;124;43m,\u001b[39;49m\u001b[38;5;124;43m'\u001b[39;49m\u001b[38;5;124;43mSahith\u001b[39;49m\u001b[38;5;124;43m'\u001b[39;49m\u001b[38;5;124;43m,\u001b[39;49m\u001b[38;5;124;43m'\u001b[39;49m\u001b[38;5;124;43mIT\u001b[39;49m\u001b[38;5;124;43m'\u001b[39;49m\u001b[38;5;124;43m)\u001b[39;49m\n\u001b[0;32m      4\u001b[0m \u001b[38;5;124;43m               \u001b[39;49m\n\u001b[0;32m      5\u001b[0m \u001b[38;5;124;43m'''\u001b[39;49m\u001b[43m)\u001b[49m\n\u001b[0;32m      6\u001b[0m connection\u001b[38;5;241m.\u001b[39mcommit()\n",
      "\u001b[1;31mIntegrityError\u001b[0m: UNIQUE constraint failed: Employee.id"
     ]
    }
   ],
   "source": [
    "cursor.execute('''\n",
    "INSERT INTO Employee(id,name,department)\n",
    "        values('66','Sahith','IT')\n",
    "               \n",
    "''')\n",
    "connection.commit()"
   ]
  },
  {
   "cell_type": "code",
   "execution_count": 12,
   "metadata": {},
   "outputs": [],
   "source": [
    "cursor.execute('''\n",
    "INSERT INTO Employee(id,name,department)\n",
    "        values('70','Raju','IT')\n",
    "               \n",
    "''')\n",
    "cursor.execute('''\n",
    "INSERT INTO Employee(id,name,department)\n",
    "        values('67','Manoj','AIML')\n",
    "               \n",
    "''')\n",
    "cursor.execute('''\n",
    "INSERT INTO Employee(id,name,department)\n",
    "        values('68','Bob','CSE')\n",
    "               \n",
    "''')\n",
    "cursor.execute('''\n",
    "INSERT INTO Employee(id,name,department)\n",
    "        values('69','Alice','Civil')\n",
    "               \n",
    "''')\n",
    "connection.commit()"
   ]
  },
  {
   "cell_type": "code",
   "execution_count": 14,
   "metadata": {},
   "outputs": [
    {
     "name": "stdout",
     "output_type": "stream",
     "text": [
      "(66, 'Sahith', 'IT')\n",
      "(67, 'Manoj', 'AIML')\n",
      "(68, 'Bob', 'CSE')\n",
      "(69, 'Alice', 'Civil')\n",
      "(70, 'Raju', 'IT')\n"
     ]
    }
   ],
   "source": [
    "cursor.execute('''SELECT * from Employee''')\n",
    "rows = cursor.fetchall()\n",
    "for row in rows:\n",
    "    print(row)"
   ]
  },
  {
   "cell_type": "code",
   "execution_count": 15,
   "metadata": {},
   "outputs": [],
   "source": [
    "cursor.execute('''\n",
    "DELETE from Employee\n",
    "               where name = 'Manoj'\n",
    "''')\n",
    "connection.commit()"
   ]
  },
  {
   "cell_type": "code",
   "execution_count": 16,
   "metadata": {},
   "outputs": [
    {
     "name": "stdout",
     "output_type": "stream",
     "text": [
      "(66, 'Sahith', 'IT')\n",
      "(68, 'Bob', 'CSE')\n",
      "(69, 'Alice', 'Civil')\n",
      "(70, 'Raju', 'IT')\n"
     ]
    }
   ],
   "source": [
    "cursor.execute('SELECT * from Employee')\n",
    "rows = cursor.fetchall()\n",
    "for row in rows:\n",
    "    print(row)"
   ]
  },
  {
   "cell_type": "code",
   "execution_count": 20,
   "metadata": {},
   "outputs": [],
   "source": [
    "cursor.execute('''\n",
    "DELETE from Employee \n",
    "               where name = 'Alice'\n",
    "''')\n",
    "connection.commit()"
   ]
  },
  {
   "cell_type": "code",
   "execution_count": 22,
   "metadata": {},
   "outputs": [
    {
     "data": {
      "text/plain": [
       "<sqlite3.Cursor at 0x280252c64c0>"
      ]
     },
     "execution_count": 22,
     "metadata": {},
     "output_type": "execute_result"
    }
   ],
   "source": [
    "cursor.execute('''\n",
    "INSERT INTO Employee(id,name,department)\n",
    "               values('67','Manoj','It')\n",
    "''')"
   ]
  },
  {
   "cell_type": "code",
   "execution_count": 25,
   "metadata": {},
   "outputs": [
    {
     "name": "stdout",
     "output_type": "stream",
     "text": [
      "(66, 'Sahith', 'IT')\n",
      "(67, 'Manoj', 'It')\n",
      "(68, 'Bob', 'CSE')\n",
      "(70, 'Raju', 'IT')\n"
     ]
    }
   ],
   "source": [
    "cursor.execute('SELECT * from Employee')\n",
    "rows = cursor.fetchall()\n",
    "for row in rows:\n",
    "    print(row)"
   ]
  },
  {
   "cell_type": "code",
   "execution_count": 26,
   "metadata": {},
   "outputs": [],
   "source": [
    "# Working with a database\n",
    "connection = sqlite3.connect('sales_data.db')\n",
    "cursor = connection.cursor()"
   ]
  },
  {
   "cell_type": "code",
   "execution_count": 27,
   "metadata": {},
   "outputs": [],
   "source": [
    "cursor.execute('''\n",
    "CREATE TABLE If Not Exists SALES(\n",
    "          id Integer Primary key,\n",
    "          product Text Not null,\n",
    "          Date Text Not null,\n",
    "          price Integer Not null \n",
    "               )\n",
    "''')\n",
    "connection.commit()"
   ]
  },
  {
   "cell_type": "code",
   "execution_count": 34,
   "metadata": {},
   "outputs": [],
   "source": [
    "sales_data = [\n",
    "    (100 , \"Car\",\"25-06-24\",4000),\n",
    "    (101 , \"Benz\",\"26-06-24\",5000),\n",
    "    (102 , \"Tesla\",\"26-06-24\",6000),\n",
    "    (103 , \"Audi\",\"26-06-24\",7000)\n",
    "]\n",
    "cursor.executemany('''\n",
    " INSERT INTO SALES(id,product,Date,price)\n",
    "                   values(?,?,?,?)\n",
    "''',sales_data)\n",
    "connection.commit()"
   ]
  },
  {
   "cell_type": "code",
   "execution_count": 35,
   "metadata": {},
   "outputs": [
    {
     "name": "stdout",
     "output_type": "stream",
     "text": [
      "(100, 'Car', '25-06-24', 4000)\n",
      "(101, 'Benz', '26-06-24', 5000)\n",
      "(102, 'Tesla', '26-06-24', 6000)\n",
      "(103, 'Audi', '26-06-24', 7000)\n"
     ]
    }
   ],
   "source": [
    "cursor.execute('SELECT * from SALES')\n",
    "rows = cursor.fetchall()\n",
    "for row in rows:\n",
    "    print(row)"
   ]
  },
  {
   "cell_type": "code",
   "execution_count": null,
   "metadata": {},
   "outputs": [],
   "source": []
  },
  {
   "cell_type": "code",
   "execution_count": null,
   "metadata": {},
   "outputs": [],
   "source": []
  }
 ],
 "metadata": {
  "kernelspec": {
   "display_name": "Python 3",
   "language": "python",
   "name": "python3"
  },
  "language_info": {
   "codemirror_mode": {
    "name": "ipython",
    "version": 3
   },
   "file_extension": ".py",
   "mimetype": "text/x-python",
   "name": "python",
   "nbconvert_exporter": "python",
   "pygments_lexer": "ipython3",
   "version": "3.12.0"
  }
 },
 "nbformat": 4,
 "nbformat_minor": 2
}
